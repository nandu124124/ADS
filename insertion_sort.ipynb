{
 "cells": [
  {
   "cell_type": "code",
   "execution_count": 13,
   "id": "533e4efa-a716-4ff0-8cc3-e4068685be96",
   "metadata": {},
   "outputs": [
    {
     "name": "stdin",
     "output_type": "stream",
     "text": [
      "Enter number of elements 5\n",
      "enter elements 10\n",
      "enter elements 5\n",
      "enter elements 8\n",
      "enter elements 80\n",
      "enter elements 40\n"
     ]
    },
    {
     "name": "stdout",
     "output_type": "stream",
     "text": [
      "[5, 8, 10, 80, 40]\n"
     ]
    }
   ],
   "source": [
    "#insertion sort\n",
    "def insertion(list):\n",
    "    size=len(list)\n",
    "    for i in range(1,size-1):\n",
    "        temp=list[i]\n",
    "        j=i-1\n",
    "        while temp<list[j] and j>=0:\n",
    "            list[j+1]=list[j]\n",
    "            j=j-1\n",
    "        list[j+1]=temp\n",
    "    return list\n",
    "n=int(input('Enter number of elements'))\n",
    "list=[]\n",
    "for i in range(n):\n",
    "    list.append(int(input('enter elements')))\n",
    "print(insertion(list))"
   ]
  },
  {
   "cell_type": "code",
   "execution_count": null,
   "id": "caeac568-f1e9-410b-a757-f5557a5a0deb",
   "metadata": {},
   "outputs": [],
   "source": []
  }
 ],
 "metadata": {
  "kernelspec": {
   "display_name": "Python 3 (ipykernel)",
   "language": "python",
   "name": "python3"
  },
  "language_info": {
   "codemirror_mode": {
    "name": "ipython",
    "version": 3
   },
   "file_extension": ".py",
   "mimetype": "text/x-python",
   "name": "python",
   "nbconvert_exporter": "python",
   "pygments_lexer": "ipython3",
   "version": "3.12.4"
  }
 },
 "nbformat": 4,
 "nbformat_minor": 5
}

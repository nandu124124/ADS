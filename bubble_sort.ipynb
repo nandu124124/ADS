{
 "cells": [
  {
   "cell_type": "code",
   "execution_count": 9,
   "id": "59a4e1e7-ad82-4d9f-beed-9379d54d78aa",
   "metadata": {},
   "outputs": [
    {
     "name": "stdout",
     "output_type": "stream",
     "text": [
      "[10, 20, 30, 40, 80, 90]\n"
     ]
    }
   ],
   "source": [
    "def bubble(list):\n",
    "    size=len(list)\n",
    "    for i in range(0,size):\n",
    "        for j in range(0,size-1):\n",
    "            if list[j]>list[j+1]:\n",
    "                temp=list[j]\n",
    "                list[j]=list[j+1]\n",
    "                list[j+1]=temp\n",
    "    return list\n",
    "\n",
    "list=[80,40,30,90,20,10]\n",
    "print(bubble(list))"
   ]
  },
  {
   "cell_type": "code",
   "execution_count": 14,
   "id": "0d261003-0333-4426-860e-5558e293fc33",
   "metadata": {},
   "outputs": [
    {
     "name": "stdin",
     "output_type": "stream",
     "text": [
      "Enter number of elements 5\n",
      "enter elements 80\n",
      "enter elements 40\n",
      "enter elements 60\n",
      "enter elements 20\n",
      "enter elements 65\n"
     ]
    },
    {
     "name": "stdout",
     "output_type": "stream",
     "text": [
      "[20, 40, 60, 65, 80]\n"
     ]
    }
   ],
   "source": [
    "def bubble(list):\n",
    "    size=len(list)\n",
    "    for i in range(0,size):\n",
    "        for j in range(0,size-1):\n",
    "            if list[j]>list[j+1]:\n",
    "                temp=list[j]\n",
    "                list[j]=list[j+1]\n",
    "                list[j+1]=temp\n",
    "    return list\n",
    "n=int(input('Enter number of elements'))\n",
    "list=[]\n",
    "for i in range(n):\n",
    "    list.append(int(input('enter elements')))\n",
    "print(bubble(list))"
   ]
  },
  {
   "cell_type": "code",
   "execution_count": null,
   "id": "530e746a-a8cd-4561-b5ca-ffc83bad9eec",
   "metadata": {},
   "outputs": [],
   "source": []
  }
 ],
 "metadata": {
  "kernelspec": {
   "display_name": "Python 3 (ipykernel)",
   "language": "python",
   "name": "python3"
  },
  "language_info": {
   "codemirror_mode": {
    "name": "ipython",
    "version": 3
   },
   "file_extension": ".py",
   "mimetype": "text/x-python",
   "name": "python",
   "nbconvert_exporter": "python",
   "pygments_lexer": "ipython3",
   "version": "3.12.4"
  }
 },
 "nbformat": 4,
 "nbformat_minor": 5
}

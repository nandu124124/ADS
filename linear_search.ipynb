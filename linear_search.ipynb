{
 "cells": [
  {
   "cell_type": "code",
   "execution_count": 15,
   "id": "9bbf8aa5-9c85-4e95-a7cd-bb41b2f2295e",
   "metadata": {},
   "outputs": [
    {
     "name": "stdin",
     "output_type": "stream",
     "text": [
      "enter number of element 5\n",
      "enter element 1\n",
      "enter element 2\n",
      "enter element 3\n",
      "enter element 4\n",
      "enter element 5\n",
      "seaching element 4\n"
     ]
    },
    {
     "name": "stdout",
     "output_type": "stream",
     "text": [
      "4 element found at position 3\n"
     ]
    }
   ],
   "source": [
    "def linear_search(list,key):\n",
    "    size=len(list)\n",
    "    index=0\n",
    "    while index<size:\n",
    "        if list[index]==key:\n",
    "            return index\n",
    "        index=index+1\n",
    "    return -1\n",
    "\n",
    "n=int(input('enter number of element'))\n",
    "lst=[]\n",
    "for i in range(n):\n",
    "    num=int(input('enter element'))\n",
    "    lst.append(num)\n",
    "key=int(input('seaching element'))\n",
    "position=linear_search(lst,key)\n",
    "if position ==-1:\n",
    "    print('element not found')\n",
    "else:\n",
    "    print('{} element found at position {}'.format(key,position))\n",
    "    \n"
   ]
  },
  {
   "cell_type": "code",
   "execution_count": 7,
   "id": "be00d4c0-f92a-43e8-9996-70ec94c3e326",
   "metadata": {},
   "outputs": [
    {
     "name": "stdout",
     "output_type": "stream",
     "text": [
      "Key found at index: 2\n"
     ]
    }
   ],
   "source": [
    "def linear_search(lst, key):\n",
    "    index = 0\n",
    "    while index < len(lst):\n",
    "        if lst[index] == key:\n",
    "            return index  \n",
    "        index += 1  \n",
    "    return -1\n",
    "\n",
    "\n",
    "\n",
    "numbers = [1, 2, 3, 4, 5]\n",
    "key_to_find = 3\n",
    "\n",
    "result = linear_search(numbers, key_to_find)\n",
    "\n",
    "if result != -1:\n",
    "    print(f'Key found at index: {result}')\n",
    "else:\n",
    "    print('Key not found in the list.')"
   ]
  },
  {
   "cell_type": "code",
   "execution_count": null,
   "id": "db480045-c4de-4cf3-b852-86daaf80a328",
   "metadata": {},
   "outputs": [],
   "source": []
  }
 ],
 "metadata": {
  "kernelspec": {
   "display_name": "Python 3 (ipykernel)",
   "language": "python",
   "name": "python3"
  },
  "language_info": {
   "codemirror_mode": {
    "name": "ipython",
    "version": 3
   },
   "file_extension": ".py",
   "mimetype": "text/x-python",
   "name": "python",
   "nbconvert_exporter": "python",
   "pygments_lexer": "ipython3",
   "version": "3.12.4"
  }
 },
 "nbformat": 4,
 "nbformat_minor": 5
}

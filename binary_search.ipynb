{
 "cells": [
  {
   "cell_type": "code",
   "execution_count": 5,
   "id": "ad419925-81bd-4f83-b1d7-0470c3a57202",
   "metadata": {},
   "outputs": [
    {
     "name": "stdin",
     "output_type": "stream",
     "text": [
      "Enter number of element : 5\n",
      "enter element 1\n",
      "enter element 2\n",
      "enter element 3\n",
      "enter element 4\n",
      "enter element 5\n",
      "seaching element 3\n"
     ]
    },
    {
     "name": "stdout",
     "output_type": "stream",
     "text": [
      "3 element found at position 2\n"
     ]
    }
   ],
   "source": [
    "def binary_search(sorted_list, key):\n",
    "    low = 0\n",
    "    high = len(sorted_list) - 1\n",
    "    while low <= high:\n",
    "        mid = (low + high) // 2\n",
    "        if sorted_list[mid] == key:\n",
    "            return mid  \n",
    "        elif key < sorted_list[mid]:\n",
    "            high = mid - 1\n",
    "        else:\n",
    "            low = mid + 1\n",
    "    return -1\n",
    "n=int(input('Enter number of element :'))\n",
    "lst=[]\n",
    "for i in range(n):\n",
    "    num=int(input('enter element'))\n",
    "    lst.append(num)\n",
    "key=int(input('seaching element'))\n",
    "position=binary_search(lst,key)\n",
    "if position ==-1:\n",
    "    print('element not found')\n",
    "else:\n",
    "    print('{} element found at position {}'.format(key,position))\n",
    "    \n"
   ]
  },
  {
   "cell_type": "code",
   "execution_count": null,
   "id": "984262f2-29bb-4d71-ae53-228148d88621",
   "metadata": {},
   "outputs": [],
   "source": []
  }
 ],
 "metadata": {
  "kernelspec": {
   "display_name": "Python 3 (ipykernel)",
   "language": "python",
   "name": "python3"
  },
  "language_info": {
   "codemirror_mode": {
    "name": "ipython",
    "version": 3
   },
   "file_extension": ".py",
   "mimetype": "text/x-python",
   "name": "python",
   "nbconvert_exporter": "python",
   "pygments_lexer": "ipython3",
   "version": "3.12.4"
  }
 },
 "nbformat": 4,
 "nbformat_minor": 5
}

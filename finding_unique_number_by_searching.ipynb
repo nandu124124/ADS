{
 "cells": [
  {
   "cell_type": "code",
   "execution_count": 3,
   "id": "8fd0860b-46d3-49bf-ac9e-5169b2f0ee95",
   "metadata": {},
   "outputs": [
    {
     "name": "stdout",
     "output_type": "stream",
     "text": [
      "Unique element (Linear Search): 4\n"
     ]
    }
   ],
   "source": [
    "def find_unique_linear(arr):\n",
    "    \n",
    "    for i in range(0, len(arr) - 1, 2):\n",
    "        if arr[i] != arr[i + 1]:\n",
    "            return arr[i]\n",
    "    return arr[-1] \n",
    "\n",
    "arr = [1, 1, 2, 2, 3, 3, 4, 5, 5]\n",
    "print(\"Unique element (Linear Search):\", find_unique_linear(arr))"
   ]
  },
  {
   "cell_type": "code",
   "execution_count": 5,
   "id": "525d3668-de79-42a0-aa67-9f65111bb3c4",
   "metadata": {},
   "outputs": [
    {
     "name": "stdout",
     "output_type": "stream",
     "text": [
      "Unique element (Binary Search): 4\n"
     ]
    }
   ],
   "source": [
    "def find_unique_binary(arr):\n",
    "    left, right = 0, len(arr) - 1\n",
    "    while left < right:\n",
    "        mid = left + (right - left) // 2\n",
    "        if mid % 2 == 1:\n",
    "            mid -= 1 \n",
    "        \n",
    "        if arr[mid] == arr[mid + 1]:\n",
    "            left = mid + 2 \n",
    "        else:\n",
    "            right = mid  \n",
    "    return arr[left]\n",
    "\n",
    "arr = [1, 1, 2, 2, 3, 3, 4, 5, 5]\n",
    "print(\"Unique element (Binary Search):\", find_unique_binary(arr))"
   ]
  },
  {
   "cell_type": "code",
   "execution_count": null,
   "id": "2dbe2d2f-3f4d-43fa-bd3d-a99a918cc3b1",
   "metadata": {},
   "outputs": [],
   "source": []
  }
 ],
 "metadata": {
  "kernelspec": {
   "display_name": "Python 3 (ipykernel)",
   "language": "python",
   "name": "python3"
  },
  "language_info": {
   "codemirror_mode": {
    "name": "ipython",
    "version": 3
   },
   "file_extension": ".py",
   "mimetype": "text/x-python",
   "name": "python",
   "nbconvert_exporter": "python",
   "pygments_lexer": "ipython3",
   "version": "3.12.4"
  }
 },
 "nbformat": 4,
 "nbformat_minor": 5
}
